{
 "cells": [
  {
   "cell_type": "markdown",
   "metadata": {},
   "source": [
    "# **Code to derive the debris cover metrics from \"The state of rock debris covering Earth's glaciers\" by Herreid and Pellicciotti, Nature Geoscience, 2020**  \n",
    "Version 1.0 (this is currently a work in progress [26 Aug 2021] and missing some metrics!)\n",
    "\n",
    "By Sam Herreid (samherreid@gmail.com)\n",
    "      \n",
    "To run the entire code, required input data are:\n",
    "\n",
    "* Glacier outline(s) (.shp)\n",
    "* Debris cover outlines (.shp) **OR** Landsat TM, ETM+, OLI image(s) (.tif, do not change default NASA file names)"
   ]
  },
  {
   "cell_type": "markdown",
   "metadata": {},
   "source": [
    "# Define input data directories"
   ]
  },
  {
   "cell_type": "code",
   "execution_count": null,
   "metadata": {},
   "outputs": [],
   "source": [
    "glacierOutlines_dir = r\"SamRGI_outlines\" "
   ]
  },
  {
   "cell_type": "code",
   "execution_count": null,
   "metadata": {},
   "outputs": [],
   "source": [
    "Landsat_dir = r\"\""
   ]
  },
  {
   "cell_type": "code",
   "execution_count": null,
   "metadata": {},
   "outputs": [],
   "source": [
    "debrisOutlines_dir = r\"SamRGI_debris\""
   ]
  },
  {
   "cell_type": "markdown",
   "metadata": {},
   "source": [
    "Of the above datasets, pick which you would like to have be the template coordinate system. Or define a new one. Or, if you are sure they are in the same coordinate system, you can skip this O(n) space/time operation.\n",
    "\n",
    "Accepted arguments are: \n",
    "\n",
    "* *glacier_shp*\n",
    "* *debris_shp*\n",
    "* *skip*\n",
    "* define a spatial reference with \"arcpy.SpatialReference(32145)\" where 32145 is replaced with a factory code for the desired spatial reference which can be found for [geographic coordinate systems](https://pro.arcgis.com/en/pro-app/arcpy/classes/pdf/geographic_coordinate_systems.pdf) or [projected coordinate systems](https://pro.arcgis.com/en/pro-app/arcpy/classes/pdf/projected_coordinate_systems.pdf). More information [here](https://pro.arcgis.com/en/pro-app/arcpy/classes/spatialreference.htm)."
   ]
  },
  {
   "cell_type": "code",
   "execution_count": null,
   "metadata": {},
   "outputs": [],
   "source": [
    "spatialRef = \"skip\""
   ]
  },
  {
   "cell_type": "markdown",
   "metadata": {},
   "source": [
    "# Define parameters\n",
    "\n",
    "**ablationZone**:"
   ]
  },
  {
   "cell_type": "markdown",
   "metadata": {},
   "source": [
    "Exclude small debris patches from ablation zone derivation (number of 30m pixels) \"20\" used in Herreid and Pellicciotti (2020)"
   ]
  },
  {
   "cell_type": "code",
   "execution_count": null,
   "metadata": {},
   "outputs": [],
   "source": [
    "n_deb_pixels_cut_ablationZone = 20"
   ]
  },
  {
   "cell_type": "markdown",
   "metadata": {},
   "source": [
    "\"0.75\" used in Herreid and Pellicciotti, Nature Geoscience, 2020."
   ]
  },
  {
   "cell_type": "code",
   "execution_count": null,
   "metadata": {},
   "outputs": [],
   "source": [
    "x_val = 0.75"
   ]
  },
  {
   "cell_type": "markdown",
   "metadata": {},
   "source": [
    "# Set up data"
   ]
  },
  {
   "cell_type": "markdown",
   "metadata": {},
   "source": [
    "Copy all of the input data into the workspace defined above and get all input data into the same projection and coordinate system"
   ]
  },
  {
   "cell_type": "code",
   "execution_count": null,
   "metadata": {},
   "outputs": [],
   "source": [
    "env.workspace = workspace"
   ]
  }
 ],
 "metadata": {
  "kernelspec": {
   "display_name": "Python 3",
   "language": "python",
   "name": "python3"
  },
  "language_info": {
   "codemirror_mode": {
    "name": "ipython",
    "version": 3
   },
   "file_extension": ".py",
   "mimetype": "text/x-python",
   "name": "python",
   "nbconvert_exporter": "python",
   "pygments_lexer": "ipython3",
   "version": "3.7.9"
  }
 },
 "nbformat": 4,
 "nbformat_minor": 4
}
