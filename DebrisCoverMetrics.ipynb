{
 "cells": [
  {
   "cell_type": "markdown",
   "metadata": {},
   "source": [
    "# **Code to derive the debris cover metrics from \"The state of rock debris covering Earth's glaciers\" by Herreid and Pellicciotti, Nature Geoscience, 2020**  \n",
    "Version 1.0 (this is currently a work in progress [26 Aug 2021] and missing some metrics!)\n",
    "\n",
    "By Sam Herreid (samherreid@gmail.com)\n",
    "      \n",
    "To run the entire code, required input data are:\n",
    "\n",
    "* Glacier outline(s) (.shp)\n",
    "* Debris cover outlines (.shp) **OR** Landsat TM, ETM+, OLI image(s) (.tif, do not change default NASA file names)"
   ]
  },
  {
   "cell_type": "markdown",
   "metadata": {},
   "source": [
    "# Define input data directories"
   ]
  },
  {
   "cell_type": "code",
   "execution_count": 1,
   "metadata": {},
   "outputs": [],
   "source": [
    "glacierOutlines_dir = r\"SamRGI_outlines\""
   ]
  },
  {
   "cell_type": "code",
   "execution_count": 2,
   "metadata": {},
   "outputs": [],
   "source": [
    "debrisOutlines_dir = r\"SamRGI_debris\""
   ]
  },
  {
   "cell_type": "code",
   "execution_count": 3,
   "metadata": {},
   "outputs": [],
   "source": [
    "Landsat_dir = r\"\""
   ]
  },
  {
   "cell_type": "markdown",
   "metadata": {},
   "source": [
    "Of the above datasets, pick which you would like to have be the template coordinate system. Or define a new one. Or, if you are sure they are in the same coordinate system, you can skip this O(n) space/time operation.\n",
    "\n",
    "Accepted arguments are: \n",
    "\n",
    "* *glacier_shp*\n",
    "* *debris_shp*\n",
    "* *skip*\n",
    "* define a spatial reference with \"arcpy.SpatialReference(32145)\" where 32145 is replaced with a factory code for the desired spatial reference which can be found for [geographic coordinate systems](https://pro.arcgis.com/en/pro-app/arcpy/classes/pdf/geographic_coordinate_systems.pdf) or [projected coordinate systems](https://pro.arcgis.com/en/pro-app/arcpy/classes/pdf/projected_coordinate_systems.pdf). More information [here](https://pro.arcgis.com/en/pro-app/arcpy/classes/spatialreference.htm)."
   ]
  },
  {
   "cell_type": "code",
   "execution_count": 4,
   "metadata": {},
   "outputs": [],
   "source": [
    "spatialRef = \"glacier_shp\""
   ]
  },
  {
   "cell_type": "markdown",
   "metadata": {},
   "source": [
    "# Define parameters\n",
    "\n",
    "**ablationZone**:"
   ]
  },
  {
   "cell_type": "markdown",
   "metadata": {},
   "source": [
    "*n_deb_pixels_cut_ablationZone* Exclude small debris patches from ablation zone derivation (number of 30m pixels) \"20\" used in Herreid and Pellicciotti (2020)"
   ]
  },
  {
   "cell_type": "code",
   "execution_count": 5,
   "metadata": {},
   "outputs": [],
   "source": [
    "n_deb_pixels_cut_ablationZone = 20"
   ]
  },
  {
   "cell_type": "markdown",
   "metadata": {},
   "source": [
    "*x_val* 0.75 used in Herreid and Pellicciotti, Nature Geoscience, 2020."
   ]
  },
  {
   "cell_type": "code",
   "execution_count": 6,
   "metadata": {},
   "outputs": [],
   "source": [
    "x_val = 0.75"
   ]
  },
  {
   "cell_type": "markdown",
   "metadata": {},
   "source": [
    "*halfTribWidthRemove* This value x2 is the fraction of the estimated glacier width that is a threshold for removing smaller tributaries. A smaller number will preserve more tributary branches. A value of 0.125 means tributaries with a width 1/4 of the estimated main width will be removed from flowline derivation. (This is a later addition to Herreid and Pellicciotti, 2020)"
   ]
  },
  {
   "cell_type": "code",
   "execution_count": 26,
   "metadata": {},
   "outputs": [],
   "source": [
    "halfTribWidthRemove = 0.125"
   ]
  },
  {
   "cell_type": "markdown",
   "metadata": {},
   "source": [
    "*hole_fill* Areas, including Nunataks, that are filled, m2"
   ]
  },
  {
   "cell_type": "code",
   "execution_count": 30,
   "metadata": {},
   "outputs": [],
   "source": [
    "hole_fill = 900000"
   ]
  },
  {
   "cell_type": "markdown",
   "metadata": {},
   "source": [
    "# Import packages"
   ]
  },
  {
   "cell_type": "code",
   "execution_count": 7,
   "metadata": {},
   "outputs": [],
   "source": [
    "import os\n",
    "import arcpy\n",
    "#local\n",
    "import commonCoords\n",
    "import ablationZone"
   ]
  },
  {
   "cell_type": "markdown",
   "metadata": {},
   "source": [
    "# Set up data"
   ]
  },
  {
   "cell_type": "markdown",
   "metadata": {},
   "source": [
    "Get lists of glacierized regions and associated debris shapefiles:"
   ]
  },
  {
   "cell_type": "code",
   "execution_count": 8,
   "metadata": {},
   "outputs": [],
   "source": [
    "#env.workspace = workspace\n",
    "\n",
    "regionList_glacier = []\n",
    "regionList_debris = []\n",
    "for gl_file in os.listdir(glacierOutlines_dir):\n",
    "    if gl_file.endswith(\".shp\"):\n",
    "        regionList_glacier.append(glacierOutlines_dir + \"\\\\\" + gl_file)\n",
    "        for deb_file in os.listdir(debrisOutlines_dir):\n",
    "            if deb_file.endswith(\".shp\"):\n",
    "                if deb_file.startswith(gl_file.split(\".\")[0]):\n",
    "                    regionList_debris.append(debrisOutlines_dir + \"\\\\\" + deb_file)\n",
    "if len(regionList_glacier) != len(regionList_debris):\n",
    "    print(\"Rename debris file(s) to have the same ID name at the beginning of the file as its associated glacier .shp. Make sure there is a debris file for each glacier file.\")"
   ]
  },
  {
   "cell_type": "markdown",
   "metadata": {},
   "source": [
    "Copy all of the input data into the workspace defined above and get all input data into the same projection and coordinate system."
   ]
  },
  {
   "cell_type": "code",
   "execution_count": 13,
   "metadata": {},
   "outputs": [],
   "source": [
    "if not os.path.exists(\"DebrisCoverMetrics_results\"):\n",
    "        os.makedirs(\"DebrisCoverMetrics_results\")\n",
    "for i, glaciers in enumerate(regionList_glacier):\n",
    "    regionFolder = \"DebrisCoverMetrics_results\\\\\"+glaciers.split(\"\\\\\")[-1].split(\".\")[0]\n",
    "    if not os.path.exists(regionFolder):\n",
    "        os.makedirs(regionFolder)\n",
    "    commonCoords.commonCoords(glaciers, regionList_debris[i], spatialRef, regionFolder)"
   ]
  },
  {
   "cell_type": "markdown",
   "metadata": {},
   "source": [
    "Get number of glaciers for progress bars of each tool"
   ]
  },
  {
   "cell_type": "code",
   "execution_count": 18,
   "metadata": {},
   "outputs": [],
   "source": [
    "n_glaciers_inRegionOrder = []\n",
    "for glaciers in regionList_glacier:\n",
    "    arcpy.MakeFeatureLayer_management(glaciers, \"tempLayer\")\n",
    "    result = arcpy.management.SelectLayerByAttribute(\"tempLayer\")\n",
    "    n_glaciers_inRegionOrder.append(result[1])\n",
    "    arcpy.Delete_management('tempLayer')\n",
    "    del result"
   ]
  },
  {
   "cell_type": "markdown",
   "metadata": {},
   "source": [
    "Define the ablation zone of each glacier, each glacier can be 1. saved seperatly; 2. merged regionally; or 3. both."
   ]
  },
  {
   "cell_type": "code",
   "execution_count": null,
   "metadata": {},
   "outputs": [],
   "source": [
    "for i, region in enumerate(os.listdir(\"DebrisCoverMetrics_results\")):\n",
    "    ablationZone_workspace = \"DebrisCoverMetrics_results\\\\\"+region+\"\\\\ablationZone\"\n",
    "    if not os.path.exists(ablationZone_workspace):\n",
    "        os.makedirs(ablationZone_workspace)\n",
    "    for regionFile in os.listdir(\"DebrisCoverMetrics_results\\\\\"+region):\n",
    "        if regionFile.startswith(\"glaciers\") and regionFile.endswith(\".shp\"):\n",
    "            region_glaciers = \"DebrisCoverMetrics_results\\\\\"+region+\"\\\\\"+regionFile\n",
    "        elif regionFile.startswith(\"debris\") and regionFile.endswith(\".shp\"):\n",
    "            region_debris = \"DebrisCoverMetrics_results\\\\\"+region+\"\\\\\"+regionFile\n",
    "    # loop through all glaciers and run ablationZone tool\n",
    "    count = 1\n",
    "    with arcpy.da.SearchCursor(region_glaciers, [\"SHAPE@\", \"SHAPE@AREA\", \"FID\"]) as cursor:\n",
    "        for row in cursor:\n",
    "            ablationZone.ablationZone(ablationZone_workspace, row[0], row[1], str(row[2]), region_debris, n_deb_pixels_cut_ablationZone, x_val, halfTribWidthRemove, hole_fill)\n",
    "            arcpy.Delete_management(ablationZone_workspace)\n",
    "        \n",
    "            print(str(count) + ' / ' + n_glaciers_inRegionOrder[i] +' glaciers complete!', end='\\r')\n",
    "            count += 1"
   ]
  },
  {
   "cell_type": "code",
   "execution_count": 52,
   "metadata": {},
   "outputs": [
    {
     "data": {
      "text/plain": [
       "<module 'ablationZone' from 'C:\\\\Users\\\\samhe\\\\Documents\\\\GitHub\\\\DebrisCoverMetrics\\\\ablationZone.py'>"
      ]
     },
     "execution_count": 52,
     "metadata": {},
     "output_type": "execute_result"
    }
   ],
   "source": [
    "import imp\n",
    "imp.reload(ablationZone)"
   ]
  }
 ],
 "metadata": {
  "kernelspec": {
   "display_name": "Python 3",
   "language": "python",
   "name": "python3"
  },
  "language_info": {
   "codemirror_mode": {
    "name": "ipython",
    "version": 3
   },
   "file_extension": ".py",
   "mimetype": "text/x-python",
   "name": "python",
   "nbconvert_exporter": "python",
   "pygments_lexer": "ipython3",
   "version": "3.7.9"
  }
 },
 "nbformat": 4,
 "nbformat_minor": 4
}
