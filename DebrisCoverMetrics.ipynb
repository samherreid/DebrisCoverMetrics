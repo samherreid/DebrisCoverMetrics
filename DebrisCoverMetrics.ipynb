{
 "cells": [
  {
   "cell_type": "markdown",
   "metadata": {},
   "source": [
    "# **Code to derive the debris cover metrics from \"The state of rock debris covering Earth's glaciers\" by Herreid and Pellicciotti, Nature Geoscience, 2020**  \n",
    "Version 1.0 (this is currently a work in progress [26 Aug 2021] and missing some metrics!)\n",
    "\n",
    "By Sam Herreid (samherreid@gmail.com)\n",
    "      \n",
    "To run the entire code, required input data are:\n",
    "\n",
    "* Glacier outline(s) (.shp)\n",
    "* Debris cover outlines (.shp) **OR** Landsat TM, ETM+, OLI image(s) (.tif, do not change default NASA file names)"
   ]
  },
  {
   "cell_type": "markdown",
   "metadata": {},
   "source": [
    "# Define input data directories"
   ]
  },
  {
   "cell_type": "code",
   "execution_count": null,
   "metadata": {},
   "outputs": [],
   "source": [
    "glacierOutlines_dir = r\"SamRGI_outlines\""
   ]
  },
  {
   "cell_type": "code",
   "execution_count": null,
   "metadata": {},
   "outputs": [],
   "source": [
    "debrisOutlines_dir = r\"SamRGI_debris\""
   ]
  },
  {
   "cell_type": "code",
   "execution_count": null,
   "metadata": {},
   "outputs": [],
   "source": [
    "Landsat_dir = r\"\""
   ]
  },
  {
   "cell_type": "markdown",
   "metadata": {},
   "source": [
    "Of the above datasets, pick which you would like to have be the template coordinate system. Or define a new one. Or, if you are sure they are in the same coordinate system, you can skip this O(n) space/time operation.\n",
    "\n",
    "Accepted arguments are: \n",
    "\n",
    "* *glacier_shp*\n",
    "* *debris_shp*\n",
    "* *skip*\n",
    "* define a spatial reference with \"arcpy.SpatialReference(32145)\" where 32145 is replaced with a factory code for the desired spatial reference which can be found for [geographic coordinate systems](https://pro.arcgis.com/en/pro-app/arcpy/classes/pdf/geographic_coordinate_systems.pdf) or [projected coordinate systems](https://pro.arcgis.com/en/pro-app/arcpy/classes/pdf/projected_coordinate_systems.pdf). More information [here](https://pro.arcgis.com/en/pro-app/arcpy/classes/spatialreference.htm)."
   ]
  },
  {
   "cell_type": "code",
   "execution_count": null,
   "metadata": {},
   "outputs": [],
   "source": [
    "spatialRef = \"glacier_shp\""
   ]
  },
  {
   "cell_type": "markdown",
   "metadata": {},
   "source": [
    "# Define parameters\n",
    "\n",
    "**ablationZone**:"
   ]
  },
  {
   "cell_type": "markdown",
   "metadata": {},
   "source": [
    "Exclude small debris patches from ablation zone derivation (number of 30m pixels) \"20\" used in Herreid and Pellicciotti (2020)"
   ]
  },
  {
   "cell_type": "code",
   "execution_count": null,
   "metadata": {},
   "outputs": [],
   "source": [
    "n_deb_pixels_cut_ablationZone = 20"
   ]
  },
  {
   "cell_type": "markdown",
   "metadata": {},
   "source": [
    "\"0.75\" used in Herreid and Pellicciotti, Nature Geoscience, 2020."
   ]
  },
  {
   "cell_type": "code",
   "execution_count": null,
   "metadata": {},
   "outputs": [],
   "source": [
    "x_val = 0.75"
   ]
  },
  {
   "cell_type": "markdown",
   "metadata": {},
   "source": [
    "# Import packages"
   ]
  },
  {
   "cell_type": "code",
   "execution_count": null,
   "metadata": {},
   "outputs": [],
   "source": [
    "import os\n",
    "import arcpy\n",
    "#local\n",
    "import commonCoords"
   ]
  },
  {
   "cell_type": "markdown",
   "metadata": {},
   "source": [
    "# Set up data"
   ]
  },
  {
   "cell_type": "markdown",
   "metadata": {},
   "source": [
    "Get lists of glacierized regions and associated debris shapefiles:"
   ]
  },
  {
   "cell_type": "code",
   "execution_count": null,
   "metadata": {},
   "outputs": [],
   "source": [
    "#env.workspace = workspace\n",
    "\n",
    "regionList_glacier = []\n",
    "regionList_debris = []\n",
    "for gl_file in os.listdir(glacierOutlines_dir):\n",
    "    if gl_file.endswith(\".shp\"):\n",
    "        regionList_glacier.append(glacierOutlines_dir + \"\\\\\" + gl_file)\n",
    "        for deb_file in os.listdir(debrisOutlines_dir):\n",
    "            if deb_file.endswith(\".shp\"):\n",
    "                if deb_file.startswith(gl_file.split(\".\")[0]):\n",
    "                    regionList_debris.append(debrisOutlines_dir + \"\\\\\" + deb_file)\n",
    "if len(regionList_glacier) != len(regionList_debris):\n",
    "    print(\"Rename debris file(s) to have the same ID name at the beginning of the file as its associated glacier .shp. Make sure there is a debris file for each glacier file.\")"
   ]
  },
  {
   "cell_type": "markdown",
   "metadata": {},
   "source": [
    "Copy all of the input data into the workspace defined above and get all input data into the same projection and coordinate system:"
   ]
  },
  {
   "cell_type": "code",
   "execution_count": null,
   "metadata": {},
   "outputs": [],
   "source": [
    "if not os.path.exists(\"working\"):\n",
    "        os.makedirs(\"working\")\n",
    "for i, glaciers in enumerate(regionList_glacier):\n",
    "    workingFolder = \"working\\\\\"+glaciers.split(\"\\\\\")[-1].split(\".\")[0]+\"_working\"\n",
    "    if not os.path.exists(workingFolder):\n",
    "        os.makedirs(workingFolder)\n",
    "    commonCoords.commonCoords(glaciers, regionList_debris[i], spatialRef, workingFolder)"
   ]
  }
 ],
 "metadata": {
  "kernelspec": {
   "display_name": "Python 3",
   "language": "python",
   "name": "python3"
  },
  "language_info": {
   "codemirror_mode": {
    "name": "ipython",
    "version": 3
   },
   "file_extension": ".py",
   "mimetype": "text/x-python",
   "name": "python",
   "nbconvert_exporter": "python",
   "pygments_lexer": "ipython3",
   "version": "3.7.9"
  }
 },
 "nbformat": 4,
 "nbformat_minor": 4
}
