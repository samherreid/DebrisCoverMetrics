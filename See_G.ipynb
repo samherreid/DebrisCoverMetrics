{
  "nbformat": 4,
  "nbformat_minor": 0,
  "metadata": {
    "colab": {
      "provenance": [],
      "collapsed_sections": [],
      "authorship_tag": "ABX9TyOmEAl/ICJkTNBpPhxINezM",
      "include_colab_link": true
    },
    "kernelspec": {
      "name": "python3",
      "display_name": "Python 3"
    },
    "language_info": {
      "name": "python"
    }
  },
  "cells": [
    {
      "cell_type": "markdown",
      "metadata": {
        "id": "view-in-github",
        "colab_type": "text"
      },
      "source": [
        "<a href=\"https://colab.research.google.com/github/samherreid/DebrisCoverMetrics/blob/main/See_G.ipynb\" target=\"_parent\"><img src=\"https://colab.research.google.com/assets/colab-badge.svg\" alt=\"Open In Colab\"/></a>"
      ]
    },
    {
      "cell_type": "markdown",
      "source": [
        "## See-G(IS code)\n",
        "\n",
        "By Sam Herreid \n",
        "\n",
        "October 2022\n",
        "\n",
        "See-G is a tool for visual learners to see arcpy functions plotted in space and turned into a sequential video to troubleshoot, vision board, identify inefficiencies and communicate many-step methods quickly and exhaustively in talks and paper supplemental information.\n",
        "\n",
        "In order to use See-G, you have to set up an ArcGIS Pro project with a layout following https://pro.arcgis.com/en/pro-app/latest/arcpy/mapping/tutorial-getting-started-with-arcpy-mp.htm and add an empty text box somewhere in the layout. The text box will be repopulated each run with the current function, line number and file name.\n",
        "\n",
        "The last block is an example of how See-G can be used in your code."
      ],
      "metadata": {
        "id": "9KeXxuNd0GMl"
      }
    },
    {
      "cell_type": "code",
      "source": [
        "baseMap = r\"\" # .shp (optional)\n",
        "arcGisProject = r\"\" # .aprx\n",
        "frameFolderPath = r\"\""
      ],
      "metadata": {
        "id": "oVPxuz663MYg"
      },
      "execution_count": null,
      "outputs": []
    },
    {
      "cell_type": "code",
      "source": [
        "imageCount = 0 # inititalize (or reset) the count"
      ],
      "metadata": {
        "id": "XX9NMh044Ttp"
      },
      "execution_count": null,
      "outputs": []
    },
    {
      "cell_type": "code",
      "source": [
        "import arcpy\n",
        "import sys\n",
        "from inspect import currentframe"
      ],
      "metadata": {
        "id": "Po74b5hq3aRe"
      },
      "execution_count": null,
      "outputs": []
    },
    {
      "cell_type": "code",
      "source": [
        "baseMapLayer = arcpy.MakeFeatureLayer_management(baseMap, \"base_lyr\").getOutput(0)"
      ],
      "metadata": {
        "id": "ufPyQdvd2KPu"
      },
      "execution_count": null,
      "outputs": []
    },
    {
      "cell_type": "code",
      "source": [
        "def imgCount():\n",
        "  imageCount = globals()['imageCount'] + 1\n",
        "  globals()['imageCount'] = imageCount\n",
        "  return str(globals()['imageCount']).zfill(4)"
      ],
      "metadata": {
        "id": "v_mNhu0n3EBX"
      },
      "execution_count": null,
      "outputs": []
    },
    {
      "cell_type": "code",
      "source": [
        "def lineNumber():\n",
        "  return currentframe().f_back.f_lineno"
      ],
      "metadata": {
        "id": "SRGwqg3vxnNn"
      },
      "execution_count": null,
      "outputs": []
    },
    {
      "cell_type": "code",
      "source": [
        "def makeFrame(featureToAdd, useSeeG, arcGisProject, baseMapLayer, frameFolderPath, lineNumber, functionName):\n",
        "  if useSeeG == 'yes':\n",
        "    aprx = arcpy.mp.ArcGISProject(arcGisProject)\n",
        "    m = aprx.listMaps(\"Map\")[0]\n",
        "    feat_lyr = arcpy.MakeFeatureLayer_management(featureToAdd, \"feat_lyr\").getOutput(0)\n",
        "    map_lyr = m.addLayer(baseMapLayer)[0]\n",
        "    map_lyr = m.addLayer(feat_lyr, \"TOP\")[0]\n",
        "    lyr = m.listLayers(feat_lyr)[0]\n",
        "    lyr_base = m.listLayers(baseMapLayer)[0]\n",
        "\n",
        "    # set base map layer color\n",
        "    sym = lyr_base.symbology\n",
        "    colorRamp = aprx.listColorRamps(\"Cyan to Purple\")[0]\n",
        "    sym.renderer.colorRamp = colorRamp\n",
        "    lyr_base.symbology = sym\n",
        "\n",
        "    lyt = aprx.listLayouts()[0]\n",
        "    mf = lyt.listElements(\"mapframe_element\")[0]\n",
        "    mf.camera.setExtent(mf.getLayerExtent(lyr, False, True))\n",
        "\n",
        "    # add line number from code by cloning an existing test element in .aprx\n",
        "    elm = lyt.listElements('TEXT_ELEMENT')[0]\n",
        "    elm.text = functionName+\": Line \"+str(lineNumber)+\" - \"+featureToAdd.split(\"\\\\\")[-1]\n",
        "\n",
        "    lyt.exportToPNG(frameFolderPath+\"\\\\frame\"+imgCount()+\".png\")\n",
        "    arcpy.Delete_management(\"feat_lyr\")\n",
        "    del feat_lyr, map_lyr, lyr, lyt, mf, elm, aprx"
      ],
      "metadata": {
        "id": "MxqWv7gf3I74"
      },
      "execution_count": null,
      "outputs": []
    },
    {
      "cell_type": "markdown",
      "source": [
        "With the above setup and functons imported, add the makeFrame line of code to every instance in your code where you want a methods map frame saved.  "
      ],
      "metadata": {
        "id": "bc59_Rpn560V"
      }
    },
    {
      "cell_type": "code",
      "source": [
        "useSeeG = 'yes' # put this commant at the head of your code and pass it as a variable in any of your functions. Setting useSeeg to [], 'no', or anything else will run your code without making See-G frames\n",
        "\n",
        "arcpy.someFunction(input,output) # I think only .shp works right now, but grids should be easy to accomodate\n",
        "\n",
        "# only output should change, the other variables will be the same unless you want to change the base map layer\n",
        "makeFrame(output, useSeeG, arcGisProject, baseMapLayer, frameFolderPath, lineNumber(), sys._getframe().f_code.co_name) "
      ],
      "metadata": {
        "id": "s-MJN9u354Ti"
      },
      "execution_count": null,
      "outputs": []
    }
  ]
}